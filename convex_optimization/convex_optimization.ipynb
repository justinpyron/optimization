{
 "cells": [
  {
   "cell_type": "markdown",
   "metadata": {},
   "source": [
    "# Overview of notebook\n",
    "\n",
    "This notebook solves a few sample convex optimization problems using code I built from scratch. To validate the code, I compare against solutions computed by the `CVXPY` package.\n",
    "\n",
    "I solve three types of problems:\n",
    "1. Equality constrained quadratic problem\n",
    "2. Equality constrained problem\n",
    "3. Inequality and equality constrained problem"
   ]
  },
  {
   "cell_type": "code",
   "execution_count": 1,
   "metadata": {},
   "outputs": [],
   "source": [
    "import numpy as np\n",
    "import cvxpy\n",
    "\n",
    "import convex_problem\n",
    "import convex_functions\n",
    "\n",
    "%load_ext autoreload\n",
    "%autoreload 2"
   ]
  },
  {
   "cell_type": "markdown",
   "metadata": {},
   "source": [
    "# Equality-constrained quadratic problem\n",
    "Solve the problem\n",
    "$$\n",
    "\\begin{equation*}\n",
    "\\begin{aligned}\n",
    "&\\text{minimize} & & \\frac{1}{2} x^T P x + q^T x + r \\\\\n",
    "&\\text{subject to} & & Ax = b\n",
    "\\end{aligned}\n",
    "\\end{equation*}\n",
    "$$\n",
    "\n",
    "where the decision variable is $x \\in \\mathbb{R}^n$."
   ]
  },
  {
   "cell_type": "markdown",
   "metadata": {},
   "source": [
    "#### Generate problem data"
   ]
  },
  {
   "cell_type": "code",
   "execution_count": 2,
   "metadata": {},
   "outputs": [],
   "source": [
    "n = 50\n",
    "m = 40\n",
    "\n",
    "U = np.random.randn(n, n)\n",
    "P = U.T.dot(U)\n",
    "q = np.random.randn(n)\n",
    "r = 0\n",
    "\n",
    "A = np.random.randn(m, n)\n",
    "b = A.dot(np.random.randn(n))\n"
   ]
  },
  {
   "cell_type": "markdown",
   "metadata": {},
   "source": [
    "#### Solve with CVXPY"
   ]
  },
  {
   "cell_type": "code",
   "execution_count": 3,
   "metadata": {},
   "outputs": [],
   "source": [
    "x = cvxpy.Variable(n)\n",
    "problem = cvxpy.Problem(\n",
    "    objective=cvxpy.Minimize(0.5*cvxpy.quad_form(x, P) + q.T@x), \n",
    "    constraints=[A @ x == b]\n",
    ")\n",
    "\n",
    "solution_cvxpy = problem.solve()\n",
    "x_cvxpy = x.value\n"
   ]
  },
  {
   "cell_type": "markdown",
   "metadata": {},
   "source": [
    "#### Solve with my code"
   ]
  },
  {
   "cell_type": "code",
   "execution_count": 4,
   "metadata": {},
   "outputs": [],
   "source": [
    "problem = convex_problem.QuadraticEqualityConstrained(P,q,r,A,b)\n",
    "solution, x = problem.solve()\n"
   ]
  },
  {
   "cell_type": "markdown",
   "metadata": {},
   "source": [
    "#### Validate solution"
   ]
  },
  {
   "cell_type": "code",
   "execution_count": 5,
   "metadata": {},
   "outputs": [
    {
     "name": "stdout",
     "output_type": "stream",
     "text": [
      "CVXPY solution: 1251.20272\n",
      "My solution:    1251.20272\n",
      "My solution satisfies equality constraints:   True\n",
      "\n",
      "CVXPY optimal x: \n",
      "[-1.0292  2.0068 -0.0433 -0.4221 -0.2015 -0.5589 -1.2816 -0.3297  1.9903\n",
      "  0.8329 -0.0156  0.5206 -1.615   2.4906  0.0255 -2.3752 -0.6318  0.014\n",
      "  0.104  -1.6877  2.6405 -1.0976 -1.9651  0.4448  0.4493  1.3571  0.333\n",
      " -0.1354 -0.9154 -0.7802  0.932  -0.1445  2.3963  1.294  -1.5534  1.0105\n",
      " -0.7343  1.3388 -0.1624  0.4978  0.8753 -0.6347  0.3588 -0.7816 -0.4947\n",
      "  1.0109  0.182   1.6875 -0.2262  0.9095]\n",
      "My optimal x: \n",
      "[-1.0292  2.0068 -0.0433 -0.4221 -0.2015 -0.5589 -1.2816 -0.3297  1.9903\n",
      "  0.8329 -0.0156  0.5206 -1.615   2.4906  0.0255 -2.3752 -0.6318  0.014\n",
      "  0.104  -1.6877  2.6405 -1.0976 -1.9651  0.4448  0.4493  1.3571  0.333\n",
      " -0.1354 -0.9154 -0.7802  0.932  -0.1445  2.3963  1.294  -1.5534  1.0105\n",
      " -0.7343  1.3388 -0.1624  0.4978  0.8753 -0.6347  0.3588 -0.7816 -0.4947\n",
      "  1.0109  0.182   1.6875 -0.2262  0.9095]\n",
      "norm(my_optimal_x - cvxpy_optimal_x) / norm(cvxpy_optimal_x): 1.9862818207952684e-14\n"
     ]
    }
   ],
   "source": [
    "print('CVXPY solution: {:.5f}'.format(solution_cvxpy))\n",
    "print('My solution:    {:.5f}'.format(solution))\n",
    "print(f'My solution satisfies equality constraints:   {np.linalg.norm(A.dot(x) - b) < 1e-4}')\n",
    "print('')\n",
    "print(f'CVXPY optimal x: \\n{x_cvxpy.round(4)}')\n",
    "print(f'My optimal x: \\n{x.round(4)}')\n",
    "relative_error_norm = np.linalg.norm(x_cvxpy - x)/np.linalg.norm(x_cvxpy)\n",
    "print('norm(my_optimal_x - cvxpy_optimal_x) / norm(cvxpy_optimal_x): {}'.format(relative_error_norm))\n"
   ]
  },
  {
   "cell_type": "markdown",
   "metadata": {},
   "source": [
    "# Equality-constrained problem\n",
    "Solve the problem\n",
    "$$\n",
    "\\begin{equation*}\n",
    "\\begin{aligned}\n",
    "&\\text{minimize} & & || x ||_2^2 + \\sum_{i=1}^n \\exp(x_i) \\\\\n",
    "&\\text{subject to} & & Ax = b\n",
    "\\end{aligned}\n",
    "\\end{equation*}\n",
    "$$\n",
    "where the decision variable is $x \\in \\mathbb{R}^n$."
   ]
  },
  {
   "cell_type": "markdown",
   "metadata": {},
   "source": [
    "#### Generate problem data"
   ]
  },
  {
   "cell_type": "code",
   "execution_count": 6,
   "metadata": {},
   "outputs": [],
   "source": [
    "n = 40\n",
    "m = 80\n",
    "\n",
    "A = np.random.randn(m, n)\n",
    "b = A.dot(np.random.randn(n))\n",
    "\n",
    "\n",
    "class MyFunction:\n",
    "    def __call__(self, x):\n",
    "        return x.dot(x) + np.exp(x).sum()\n",
    "    \n",
    "    def gradient(self, x):\n",
    "        return 2*x + np.exp(x)\n",
    "    \n",
    "    def hessian(self, x):\n",
    "        return 2*np.eye(x.shape[0]) + np.diag(np.exp(x))"
   ]
  },
  {
   "cell_type": "markdown",
   "metadata": {},
   "source": [
    "#### Solve with CVXPY"
   ]
  },
  {
   "cell_type": "code",
   "execution_count": 7,
   "metadata": {},
   "outputs": [],
   "source": [
    "x = cvxpy.Variable(n)\n",
    "problem = cvxpy.Problem(\n",
    "    objective=cvxpy.Minimize(cvxpy.norm(x)**2 + cvxpy.sum(cvxpy.exp(x))), \n",
    "    constraints=[A @ x == b]\n",
    ")\n",
    "solution_cvxpy = problem.solve()\n",
    "x_cvxpy = x.value\n"
   ]
  },
  {
   "cell_type": "markdown",
   "metadata": {},
   "source": [
    "#### Solve with my code"
   ]
  },
  {
   "cell_type": "code",
   "execution_count": 8,
   "metadata": {},
   "outputs": [],
   "source": [
    "starting_point = np.linalg.lstsq(A, b, rcond=None)[0]\n",
    "function = MyFunction()\n",
    "\n",
    "problem = convex_problem.EqualityConstrained(function, A, b)\n",
    "solution, x = problem.solve(starting_point)\n"
   ]
  },
  {
   "cell_type": "markdown",
   "metadata": {},
   "source": [
    "#### Validate solution"
   ]
  },
  {
   "cell_type": "code",
   "execution_count": 9,
   "metadata": {},
   "outputs": [
    {
     "name": "stdout",
     "output_type": "stream",
     "text": [
      "CVXPY solution: 110.85618\n",
      "My solution:    110.85619\n",
      "My solution satisfies equality constraints:   True\n",
      "\n",
      "CVXPY optimal x: \n",
      "[-1.5231  0.3271 -1.2208  0.9992  1.6103  1.222   0.358  -0.8122 -0.4741\n",
      "  1.0324  1.546  -0.0987 -0.379   0.5573 -0.1444  0.1843  0.6053 -0.2543\n",
      " -0.2369  0.9516 -0.2372  0.2495  0.7851  0.1135 -0.0598 -0.083   1.8809\n",
      "  0.8666  0.4163  2.1166  1.4971 -0.5367 -1.7822  0.5987  0.0279 -0.0474\n",
      " -1.6664  0.0938  0.4111  1.1583]\n",
      "My optimal x: \n",
      "[-1.5231  0.3271 -1.2208  0.9992  1.6103  1.222   0.358  -0.8122 -0.4741\n",
      "  1.0324  1.546  -0.0987 -0.379   0.5573 -0.1444  0.1843  0.6053 -0.2543\n",
      " -0.2369  0.9516 -0.2372  0.2495  0.7851  0.1135 -0.0598 -0.083   1.8809\n",
      "  0.8666  0.4163  2.1166  1.4971 -0.5367 -1.7822  0.5987  0.0279 -0.0474\n",
      " -1.6664  0.0938  0.4111  1.1583]\n",
      "norm(my_optimal_x - cvxpy_optimal_x) / norm(cvxpy_optimal_x): 3.1070220761400647e-09\n"
     ]
    }
   ],
   "source": [
    "print('CVXPY solution: {:.5f}'.format(solution_cvxpy))\n",
    "print('My solution:    {:.5f}'.format(solution))\n",
    "print(f'My solution satisfies equality constraints:   {np.linalg.norm(A.dot(x) - b) < 1e-4}')\n",
    "print('')\n",
    "print(f'CVXPY optimal x: \\n{x_cvxpy.round(4)}')\n",
    "print(f'My optimal x: \\n{x.round(4)}')\n",
    "relative_error_norm = np.linalg.norm(x_cvxpy - x)/np.linalg.norm(x_cvxpy)\n",
    "print('norm(my_optimal_x - cvxpy_optimal_x) / norm(cvxpy_optimal_x): {}'.format(relative_error_norm))\n"
   ]
  },
  {
   "cell_type": "markdown",
   "metadata": {},
   "source": [
    "# Equality and inequality constrained problem\n",
    "Solve the problem\n",
    "$$\n",
    "\\begin{equation*}\n",
    "\\begin{aligned}\n",
    "&\\text{minimize} & & c^T x \\\\\n",
    "&\\text{subject to} & & x^T x - 1 \\leq 0 \\\\\n",
    "& & & Ax = b \\\\\n",
    "\\end{aligned}\n",
    "\\end{equation*}\n",
    "$$\n",
    "where the decision variable is $x \\in \\mathbb{R}^n$."
   ]
  },
  {
   "cell_type": "markdown",
   "metadata": {},
   "source": [
    "#### Generate problem data"
   ]
  },
  {
   "cell_type": "code",
   "execution_count": 10,
   "metadata": {},
   "outputs": [],
   "source": [
    "n = 50\n",
    "m = 100\n",
    "\n",
    "c = np.random.randint(-50,50,n)\n",
    "A = np.random.randn(m, n)\n",
    "x_0 = np.random.uniform(size=n) / np.sqrt(n)\n",
    "b = A.dot(x_0)\n"
   ]
  },
  {
   "cell_type": "markdown",
   "metadata": {},
   "source": [
    "#### Solve with CVXPY"
   ]
  },
  {
   "cell_type": "code",
   "execution_count": 11,
   "metadata": {},
   "outputs": [],
   "source": [
    "x = cvxpy.Variable(n)\n",
    "problem = cvxpy.Problem(\n",
    "    objective=cvxpy.Minimize(c.T @ x), \n",
    "    constraints=[cvxpy.norm(x)**2 <= 1, A @ x == b]\n",
    ")\n",
    "\n",
    "solution_cvxpy = problem.solve()\n",
    "x_cvxpy = x.value\n"
   ]
  },
  {
   "cell_type": "markdown",
   "metadata": {},
   "source": [
    "#### Solve with my code"
   ]
  },
  {
   "cell_type": "code",
   "execution_count": 12,
   "metadata": {},
   "outputs": [],
   "source": [
    "class MyObjectiveFunction:\n",
    "    '''Represents the function f(x) = c^T x'''\n",
    "    def __init__(self, c):\n",
    "        self.c = c\n",
    "        self.n = c.shape[0]\n",
    "    \n",
    "    def __call__(self, x):\n",
    "        return self.c.dot(x)\n",
    "    \n",
    "    def gradient(self, x):\n",
    "        return self.c\n",
    "    \n",
    "    def hessian(self, x):\n",
    "        return np.zeros((self.n, self.n))\n",
    "    \n",
    "class MyConstraintFunction:\n",
    "    '''Represents the function f(x) = x^T x - 1'''\n",
    "    def __call__(self, x):\n",
    "        return x.dot(x) - 1\n",
    "    \n",
    "    def gradient(self, x):\n",
    "        return 2*x\n",
    "    \n",
    "    def hessian(self, x):\n",
    "        return 2*np.eye(x.shape[0])\n",
    "\n",
    "\n",
    "objective = MyObjectiveFunction(c)\n",
    "constraint_functions = [MyConstraintFunction()]\n",
    "\n",
    "problem = convex_problem.EqualityAndInequalityConstrained(objective, constraint_functions, A, b)\n",
    "solution, x = problem.solve(x_0)\n"
   ]
  },
  {
   "cell_type": "markdown",
   "metadata": {},
   "source": [
    "#### Validate solution"
   ]
  },
  {
   "cell_type": "code",
   "execution_count": 13,
   "metadata": {},
   "outputs": [
    {
     "name": "stdout",
     "output_type": "stream",
     "text": [
      "CVXPY solution: -20.41636\n",
      "My solution:    -20.41629\n",
      "My solution satisfies equality constraints:   True\n",
      "My solution satisfies inequality constraints: True\n",
      "\n",
      "CVXPY optimal x: \n",
      "[0.0352 0.0458 0.0048 0.0253 0.0082 0.0014 0.019  0.1088 0.1237 0.1091\n",
      " 0.1126 0.1116 0.1185 0.0857 0.0871 0.1107 0.0434 0.0432 0.0256 0.0531\n",
      " 0.0531 0.0093 0.0593 0.0348 0.0761 0.0237 0.0941 0.1057 0.1266 0.0629\n",
      " 0.1048 0.0345 0.1123 0.0987 0.1201 0.0245 0.0551 0.0513 0.0318 0.0386\n",
      " 0.0528 0.0739 0.0202 0.1052 0.0263 0.0757 0.0777 0.103  0.0386 0.095 ]\n",
      "My optimal x: \n",
      "[0.0352 0.0458 0.0048 0.0253 0.0082 0.0014 0.019  0.1088 0.1237 0.1091\n",
      " 0.1126 0.1116 0.1185 0.0857 0.0871 0.1107 0.0434 0.0432 0.0256 0.0531\n",
      " 0.0531 0.0093 0.0593 0.0348 0.0761 0.0237 0.0941 0.1057 0.1266 0.0629\n",
      " 0.1048 0.0345 0.1123 0.0987 0.1201 0.0245 0.0551 0.0513 0.0318 0.0386\n",
      " 0.0528 0.0739 0.0202 0.1052 0.0263 0.0757 0.0777 0.103  0.0386 0.095 ]\n",
      "norm(my_optimal_x - cvxpy_optimal_x) / norm(cvxpy_optimal_x): 2.971953928332515e-06\n"
     ]
    }
   ],
   "source": [
    "print('CVXPY solution: {:.5f}'.format(solution_cvxpy))\n",
    "print('My solution:    {:.5f}'.format(solution))\n",
    "print(f'My solution satisfies equality constraints:   {np.linalg.norm(A.dot(x) - b) < 1e-4}')\n",
    "print(f'My solution satisfies inequality constraints: {all([f(x) < 0 for f in constraint_functions])}')\n",
    "print('')\n",
    "print(f'CVXPY optimal x: \\n{x_cvxpy.round(4)}')\n",
    "print(f'My optimal x: \\n{x.round(4)}')\n",
    "relative_error_norm = np.linalg.norm(x_cvxpy - x)/np.linalg.norm(x_cvxpy)\n",
    "print('norm(my_optimal_x - cvxpy_optimal_x) / norm(cvxpy_optimal_x): {}'.format(relative_error_norm))\n"
   ]
  },
  {
   "cell_type": "code",
   "execution_count": null,
   "metadata": {},
   "outputs": [],
   "source": []
  }
 ],
 "metadata": {
  "kernelspec": {
   "display_name": "opt_kernel",
   "language": "python",
   "name": "opt_kernel"
  },
  "language_info": {
   "codemirror_mode": {
    "name": "ipython",
    "version": 3
   },
   "file_extension": ".py",
   "mimetype": "text/x-python",
   "name": "python",
   "nbconvert_exporter": "python",
   "pygments_lexer": "ipython3",
   "version": "3.6.8"
  }
 },
 "nbformat": 4,
 "nbformat_minor": 2
}
